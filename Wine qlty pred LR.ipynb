{
 "cells": [
  {
   "cell_type": "markdown",
   "id": "82bab1fa",
   "metadata": {},
   "source": [
    "# Machine Learning model to predict Quality of Wine using Linear Regression."
   ]
  },
  {
   "cell_type": "code",
   "execution_count": 1,
   "id": "6de4e1fb",
   "metadata": {},
   "outputs": [],
   "source": [
    "# import the packages\n",
    "\n",
    "import pandas as pd\n",
    "import numpy as np\n",
    "import seaborn as sns\n",
    "from sklearn.linear_model import LinearRegression\n",
    "from sklearn.model_selection import train_test_split\n",
    "from sklearn import metrics\n",
    "import matplotlib.pyplot as plt"
   ]
  },
  {
   "cell_type": "code",
   "execution_count": 2,
   "id": "2b908755",
   "metadata": {},
   "outputs": [
    {
     "data": {
      "text/html": [
       "<div>\n",
       "<style scoped>\n",
       "    .dataframe tbody tr th:only-of-type {\n",
       "        vertical-align: middle;\n",
       "    }\n",
       "\n",
       "    .dataframe tbody tr th {\n",
       "        vertical-align: top;\n",
       "    }\n",
       "\n",
       "    .dataframe thead th {\n",
       "        text-align: right;\n",
       "    }\n",
       "</style>\n",
       "<table border=\"1\" class=\"dataframe\">\n",
       "  <thead>\n",
       "    <tr style=\"text-align: right;\">\n",
       "      <th></th>\n",
       "      <th>fixed acidity</th>\n",
       "      <th>volatile acidity</th>\n",
       "      <th>citric acid</th>\n",
       "      <th>residual sugar</th>\n",
       "      <th>chlorides</th>\n",
       "      <th>free sulfur dioxide</th>\n",
       "      <th>total sulfur dioxide</th>\n",
       "      <th>density</th>\n",
       "      <th>pH</th>\n",
       "      <th>sulphates</th>\n",
       "      <th>alcohol</th>\n",
       "      <th>quality</th>\n",
       "      <th>Id</th>\n",
       "    </tr>\n",
       "  </thead>\n",
       "  <tbody>\n",
       "    <tr>\n",
       "      <th>0</th>\n",
       "      <td>7.4</td>\n",
       "      <td>0.70</td>\n",
       "      <td>0.00</td>\n",
       "      <td>1.9</td>\n",
       "      <td>0.076</td>\n",
       "      <td>11.0</td>\n",
       "      <td>34.0</td>\n",
       "      <td>0.9978</td>\n",
       "      <td>3.51</td>\n",
       "      <td>0.56</td>\n",
       "      <td>9.4</td>\n",
       "      <td>5</td>\n",
       "      <td>0</td>\n",
       "    </tr>\n",
       "    <tr>\n",
       "      <th>1</th>\n",
       "      <td>7.8</td>\n",
       "      <td>0.88</td>\n",
       "      <td>0.00</td>\n",
       "      <td>2.6</td>\n",
       "      <td>0.098</td>\n",
       "      <td>25.0</td>\n",
       "      <td>67.0</td>\n",
       "      <td>0.9968</td>\n",
       "      <td>3.20</td>\n",
       "      <td>0.68</td>\n",
       "      <td>9.8</td>\n",
       "      <td>5</td>\n",
       "      <td>1</td>\n",
       "    </tr>\n",
       "    <tr>\n",
       "      <th>2</th>\n",
       "      <td>7.8</td>\n",
       "      <td>0.76</td>\n",
       "      <td>0.04</td>\n",
       "      <td>2.3</td>\n",
       "      <td>0.092</td>\n",
       "      <td>15.0</td>\n",
       "      <td>54.0</td>\n",
       "      <td>0.9970</td>\n",
       "      <td>3.26</td>\n",
       "      <td>0.65</td>\n",
       "      <td>9.8</td>\n",
       "      <td>5</td>\n",
       "      <td>2</td>\n",
       "    </tr>\n",
       "    <tr>\n",
       "      <th>3</th>\n",
       "      <td>11.2</td>\n",
       "      <td>0.28</td>\n",
       "      <td>0.56</td>\n",
       "      <td>1.9</td>\n",
       "      <td>0.075</td>\n",
       "      <td>17.0</td>\n",
       "      <td>60.0</td>\n",
       "      <td>0.9980</td>\n",
       "      <td>3.16</td>\n",
       "      <td>0.58</td>\n",
       "      <td>9.8</td>\n",
       "      <td>6</td>\n",
       "      <td>3</td>\n",
       "    </tr>\n",
       "    <tr>\n",
       "      <th>4</th>\n",
       "      <td>7.4</td>\n",
       "      <td>0.70</td>\n",
       "      <td>0.00</td>\n",
       "      <td>1.9</td>\n",
       "      <td>0.076</td>\n",
       "      <td>11.0</td>\n",
       "      <td>34.0</td>\n",
       "      <td>0.9978</td>\n",
       "      <td>3.51</td>\n",
       "      <td>0.56</td>\n",
       "      <td>9.4</td>\n",
       "      <td>5</td>\n",
       "      <td>4</td>\n",
       "    </tr>\n",
       "  </tbody>\n",
       "</table>\n",
       "</div>"
      ],
      "text/plain": [
       "   fixed acidity  volatile acidity  citric acid  residual sugar  chlorides  \\\n",
       "0            7.4              0.70         0.00             1.9      0.076   \n",
       "1            7.8              0.88         0.00             2.6      0.098   \n",
       "2            7.8              0.76         0.04             2.3      0.092   \n",
       "3           11.2              0.28         0.56             1.9      0.075   \n",
       "4            7.4              0.70         0.00             1.9      0.076   \n",
       "\n",
       "   free sulfur dioxide  total sulfur dioxide  density    pH  sulphates  \\\n",
       "0                 11.0                  34.0   0.9978  3.51       0.56   \n",
       "1                 25.0                  67.0   0.9968  3.20       0.68   \n",
       "2                 15.0                  54.0   0.9970  3.26       0.65   \n",
       "3                 17.0                  60.0   0.9980  3.16       0.58   \n",
       "4                 11.0                  34.0   0.9978  3.51       0.56   \n",
       "\n",
       "   alcohol  quality  Id  \n",
       "0      9.4        5   0  \n",
       "1      9.8        5   1  \n",
       "2      9.8        5   2  \n",
       "3      9.8        6   3  \n",
       "4      9.4        5   4  "
      ]
     },
     "execution_count": 2,
     "metadata": {},
     "output_type": "execute_result"
    }
   ],
   "source": [
    "df= pd.read_csv('WineQT.csv')\n",
    "df.head()"
   ]
  },
  {
   "cell_type": "code",
   "execution_count": 3,
   "id": "3c2e74b6",
   "metadata": {},
   "outputs": [
    {
     "data": {
      "text/plain": [
       "(1143, 13)"
      ]
     },
     "execution_count": 3,
     "metadata": {},
     "output_type": "execute_result"
    }
   ],
   "source": [
    "df.shape"
   ]
  },
  {
   "cell_type": "code",
   "execution_count": 4,
   "id": "bf1a3f69",
   "metadata": {},
   "outputs": [
    {
     "name": "stdout",
     "output_type": "stream",
     "text": [
      "<class 'pandas.core.frame.DataFrame'>\n",
      "RangeIndex: 1143 entries, 0 to 1142\n",
      "Data columns (total 13 columns):\n",
      " #   Column                Non-Null Count  Dtype  \n",
      "---  ------                --------------  -----  \n",
      " 0   fixed acidity         1143 non-null   float64\n",
      " 1   volatile acidity      1143 non-null   float64\n",
      " 2   citric acid           1143 non-null   float64\n",
      " 3   residual sugar        1143 non-null   float64\n",
      " 4   chlorides             1143 non-null   float64\n",
      " 5   free sulfur dioxide   1143 non-null   float64\n",
      " 6   total sulfur dioxide  1143 non-null   float64\n",
      " 7   density               1143 non-null   float64\n",
      " 8   pH                    1143 non-null   float64\n",
      " 9   sulphates             1143 non-null   float64\n",
      " 10  alcohol               1143 non-null   float64\n",
      " 11  quality               1143 non-null   int64  \n",
      " 12  Id                    1143 non-null   int64  \n",
      "dtypes: float64(11), int64(2)\n",
      "memory usage: 116.2 KB\n"
     ]
    }
   ],
   "source": [
    "df.info()"
   ]
  },
  {
   "cell_type": "code",
   "execution_count": 5,
   "id": "2109672e",
   "metadata": {},
   "outputs": [
    {
     "data": {
      "text/html": [
       "<div>\n",
       "<style scoped>\n",
       "    .dataframe tbody tr th:only-of-type {\n",
       "        vertical-align: middle;\n",
       "    }\n",
       "\n",
       "    .dataframe tbody tr th {\n",
       "        vertical-align: top;\n",
       "    }\n",
       "\n",
       "    .dataframe thead th {\n",
       "        text-align: right;\n",
       "    }\n",
       "</style>\n",
       "<table border=\"1\" class=\"dataframe\">\n",
       "  <thead>\n",
       "    <tr style=\"text-align: right;\">\n",
       "      <th></th>\n",
       "      <th>fixed acidity</th>\n",
       "      <th>volatile acidity</th>\n",
       "      <th>citric acid</th>\n",
       "      <th>residual sugar</th>\n",
       "      <th>chlorides</th>\n",
       "      <th>free sulfur dioxide</th>\n",
       "      <th>total sulfur dioxide</th>\n",
       "      <th>density</th>\n",
       "      <th>pH</th>\n",
       "      <th>sulphates</th>\n",
       "      <th>alcohol</th>\n",
       "      <th>quality</th>\n",
       "      <th>Id</th>\n",
       "    </tr>\n",
       "  </thead>\n",
       "  <tbody>\n",
       "    <tr>\n",
       "      <th>count</th>\n",
       "      <td>1143.000000</td>\n",
       "      <td>1143.000000</td>\n",
       "      <td>1143.000000</td>\n",
       "      <td>1143.000000</td>\n",
       "      <td>1143.000000</td>\n",
       "      <td>1143.000000</td>\n",
       "      <td>1143.000000</td>\n",
       "      <td>1143.000000</td>\n",
       "      <td>1143.000000</td>\n",
       "      <td>1143.000000</td>\n",
       "      <td>1143.000000</td>\n",
       "      <td>1143.000000</td>\n",
       "      <td>1143.000000</td>\n",
       "    </tr>\n",
       "    <tr>\n",
       "      <th>mean</th>\n",
       "      <td>8.311111</td>\n",
       "      <td>0.531339</td>\n",
       "      <td>0.268364</td>\n",
       "      <td>2.532152</td>\n",
       "      <td>0.086933</td>\n",
       "      <td>15.615486</td>\n",
       "      <td>45.914698</td>\n",
       "      <td>0.996730</td>\n",
       "      <td>3.311015</td>\n",
       "      <td>0.657708</td>\n",
       "      <td>10.442111</td>\n",
       "      <td>5.657043</td>\n",
       "      <td>804.969379</td>\n",
       "    </tr>\n",
       "    <tr>\n",
       "      <th>std</th>\n",
       "      <td>1.747595</td>\n",
       "      <td>0.179633</td>\n",
       "      <td>0.196686</td>\n",
       "      <td>1.355917</td>\n",
       "      <td>0.047267</td>\n",
       "      <td>10.250486</td>\n",
       "      <td>32.782130</td>\n",
       "      <td>0.001925</td>\n",
       "      <td>0.156664</td>\n",
       "      <td>0.170399</td>\n",
       "      <td>1.082196</td>\n",
       "      <td>0.805824</td>\n",
       "      <td>463.997116</td>\n",
       "    </tr>\n",
       "    <tr>\n",
       "      <th>min</th>\n",
       "      <td>4.600000</td>\n",
       "      <td>0.120000</td>\n",
       "      <td>0.000000</td>\n",
       "      <td>0.900000</td>\n",
       "      <td>0.012000</td>\n",
       "      <td>1.000000</td>\n",
       "      <td>6.000000</td>\n",
       "      <td>0.990070</td>\n",
       "      <td>2.740000</td>\n",
       "      <td>0.330000</td>\n",
       "      <td>8.400000</td>\n",
       "      <td>3.000000</td>\n",
       "      <td>0.000000</td>\n",
       "    </tr>\n",
       "    <tr>\n",
       "      <th>25%</th>\n",
       "      <td>7.100000</td>\n",
       "      <td>0.392500</td>\n",
       "      <td>0.090000</td>\n",
       "      <td>1.900000</td>\n",
       "      <td>0.070000</td>\n",
       "      <td>7.000000</td>\n",
       "      <td>21.000000</td>\n",
       "      <td>0.995570</td>\n",
       "      <td>3.205000</td>\n",
       "      <td>0.550000</td>\n",
       "      <td>9.500000</td>\n",
       "      <td>5.000000</td>\n",
       "      <td>411.000000</td>\n",
       "    </tr>\n",
       "    <tr>\n",
       "      <th>50%</th>\n",
       "      <td>7.900000</td>\n",
       "      <td>0.520000</td>\n",
       "      <td>0.250000</td>\n",
       "      <td>2.200000</td>\n",
       "      <td>0.079000</td>\n",
       "      <td>13.000000</td>\n",
       "      <td>37.000000</td>\n",
       "      <td>0.996680</td>\n",
       "      <td>3.310000</td>\n",
       "      <td>0.620000</td>\n",
       "      <td>10.200000</td>\n",
       "      <td>6.000000</td>\n",
       "      <td>794.000000</td>\n",
       "    </tr>\n",
       "    <tr>\n",
       "      <th>75%</th>\n",
       "      <td>9.100000</td>\n",
       "      <td>0.640000</td>\n",
       "      <td>0.420000</td>\n",
       "      <td>2.600000</td>\n",
       "      <td>0.090000</td>\n",
       "      <td>21.000000</td>\n",
       "      <td>61.000000</td>\n",
       "      <td>0.997845</td>\n",
       "      <td>3.400000</td>\n",
       "      <td>0.730000</td>\n",
       "      <td>11.100000</td>\n",
       "      <td>6.000000</td>\n",
       "      <td>1209.500000</td>\n",
       "    </tr>\n",
       "    <tr>\n",
       "      <th>max</th>\n",
       "      <td>15.900000</td>\n",
       "      <td>1.580000</td>\n",
       "      <td>1.000000</td>\n",
       "      <td>15.500000</td>\n",
       "      <td>0.611000</td>\n",
       "      <td>68.000000</td>\n",
       "      <td>289.000000</td>\n",
       "      <td>1.003690</td>\n",
       "      <td>4.010000</td>\n",
       "      <td>2.000000</td>\n",
       "      <td>14.900000</td>\n",
       "      <td>8.000000</td>\n",
       "      <td>1597.000000</td>\n",
       "    </tr>\n",
       "  </tbody>\n",
       "</table>\n",
       "</div>"
      ],
      "text/plain": [
       "       fixed acidity  volatile acidity  citric acid  residual sugar  \\\n",
       "count    1143.000000       1143.000000  1143.000000     1143.000000   \n",
       "mean        8.311111          0.531339     0.268364        2.532152   \n",
       "std         1.747595          0.179633     0.196686        1.355917   \n",
       "min         4.600000          0.120000     0.000000        0.900000   \n",
       "25%         7.100000          0.392500     0.090000        1.900000   \n",
       "50%         7.900000          0.520000     0.250000        2.200000   \n",
       "75%         9.100000          0.640000     0.420000        2.600000   \n",
       "max        15.900000          1.580000     1.000000       15.500000   \n",
       "\n",
       "         chlorides  free sulfur dioxide  total sulfur dioxide      density  \\\n",
       "count  1143.000000          1143.000000           1143.000000  1143.000000   \n",
       "mean      0.086933            15.615486             45.914698     0.996730   \n",
       "std       0.047267            10.250486             32.782130     0.001925   \n",
       "min       0.012000             1.000000              6.000000     0.990070   \n",
       "25%       0.070000             7.000000             21.000000     0.995570   \n",
       "50%       0.079000            13.000000             37.000000     0.996680   \n",
       "75%       0.090000            21.000000             61.000000     0.997845   \n",
       "max       0.611000            68.000000            289.000000     1.003690   \n",
       "\n",
       "                pH    sulphates      alcohol      quality           Id  \n",
       "count  1143.000000  1143.000000  1143.000000  1143.000000  1143.000000  \n",
       "mean      3.311015     0.657708    10.442111     5.657043   804.969379  \n",
       "std       0.156664     0.170399     1.082196     0.805824   463.997116  \n",
       "min       2.740000     0.330000     8.400000     3.000000     0.000000  \n",
       "25%       3.205000     0.550000     9.500000     5.000000   411.000000  \n",
       "50%       3.310000     0.620000    10.200000     6.000000   794.000000  \n",
       "75%       3.400000     0.730000    11.100000     6.000000  1209.500000  \n",
       "max       4.010000     2.000000    14.900000     8.000000  1597.000000  "
      ]
     },
     "execution_count": 5,
     "metadata": {},
     "output_type": "execute_result"
    }
   ],
   "source": [
    "df.describe()"
   ]
  },
  {
   "cell_type": "code",
   "execution_count": 6,
   "id": "9a113292",
   "metadata": {},
   "outputs": [
    {
     "data": {
      "text/plain": [
       "array([5, 6, 7, 4, 8, 3], dtype=int64)"
      ]
     },
     "execution_count": 6,
     "metadata": {},
     "output_type": "execute_result"
    }
   ],
   "source": [
    "df['quality'].unique()"
   ]
  },
  {
   "cell_type": "code",
   "execution_count": 7,
   "id": "63ac504e",
   "metadata": {},
   "outputs": [
    {
     "data": {
      "text/plain": [
       "3      6\n",
       "4     33\n",
       "5    483\n",
       "6    462\n",
       "7    143\n",
       "8     16\n",
       "Name: quality, dtype: int64"
      ]
     },
     "execution_count": 7,
     "metadata": {},
     "output_type": "execute_result"
    }
   ],
   "source": [
    "df.quality.value_counts().sort_index()"
   ]
  },
  {
   "cell_type": "code",
   "execution_count": 8,
   "id": "21501cee",
   "metadata": {},
   "outputs": [
    {
     "data": {
      "text/plain": [
       "<Axes: xlabel='quality', ylabel='count'>"
      ]
     },
     "execution_count": 8,
     "metadata": {},
     "output_type": "execute_result"
    },
    {
     "data": {
      "image/png": "[encoded data removed]",
      "text/plain": [
       "<Figure size 640x480 with 1 Axes>"
      ]
     },
     "metadata": {},
     "output_type": "display_data"
    }
   ],
   "source": [
    "sns.countplot(x='quality', data= df)"
   ]
  },
  {
   "cell_type": "code",
   "execution_count": 9,
   "id": "9596ac99",
   "metadata": {},
   "outputs": [
    {
     "name": "stdout",
     "output_type": "stream",
     "text": [
      "fixed acidity             2.000000\n",
      "volatile acidity          0.247500\n",
      "citric acid               0.330000\n",
      "residual sugar            0.700000\n",
      "chlorides                 0.020000\n",
      "free sulfur dioxide      14.000000\n",
      "total sulfur dioxide     40.000000\n",
      "density                   0.002275\n",
      "pH                        0.195000\n",
      "sulphates                 0.180000\n",
      "alcohol                   1.600000\n",
      "quality                   1.000000\n",
      "Id                      798.500000\n",
      "dtype: float64\n"
     ]
    }
   ],
   "source": [
    "q1 = df.quantile(0.25)\n",
    "q3 = df.quantile(0.75)\n",
    "iqr = q3-q1\n",
    "print(iqr)"
   ]
  },
  {
   "cell_type": "code",
   "execution_count": 10,
   "id": "0abacc96",
   "metadata": {},
   "outputs": [
    {
     "name": "stdout",
     "output_type": "stream",
     "text": [
      "      fixed acidity  volatile acidity  citric acid  residual sugar  chlorides  \\\n",
      "0             False             False        False           False      False   \n",
      "1             False             False        False           False      False   \n",
      "2             False             False        False           False      False   \n",
      "3             False             False        False           False      False   \n",
      "4             False             False        False           False      False   \n",
      "...             ...               ...          ...             ...        ...   \n",
      "1138          False             False        False           False      False   \n",
      "1139          False             False        False           False      False   \n",
      "1140          False             False        False           False      False   \n",
      "1141          False             False        False           False      False   \n",
      "1142          False             False        False           False      False   \n",
      "\n",
      "      free sulfur dioxide  total sulfur dioxide  density     pH  sulphates  \\\n",
      "0                   False                 False    False  False      False   \n",
      "1                   False                 False    False  False      False   \n",
      "2                   False                 False    False  False      False   \n",
      "3                   False                 False    False  False      False   \n",
      "4                   False                 False    False  False      False   \n",
      "...                   ...                   ...      ...    ...        ...   \n",
      "1138                False                 False    False  False      False   \n",
      "1139                False                 False    False  False      False   \n",
      "1140                False                 False    False  False      False   \n",
      "1141                False                 False    False  False      False   \n",
      "1142                False                 False    False  False      False   \n",
      "\n",
      "      alcohol  quality     Id  \n",
      "0       False    False  False  \n",
      "1       False    False  False  \n",
      "2       False    False  False  \n",
      "3       False    False  False  \n",
      "4       False    False  False  \n",
      "...       ...      ...    ...  \n",
      "1138    False    False  False  \n",
      "1139    False    False  False  \n",
      "1140    False    False  False  \n",
      "1141    False    False  False  \n",
      "1142    False    False  False  \n",
      "\n",
      "[1143 rows x 13 columns]\n"
     ]
    },
    {
     "ename": "TypeError",
     "evalue": "Cannot perform 'ror_' with a dtyped [bool] array and scalar of type [NoneType]",
     "output_type": "error",
     "traceback": [
      "\u001b[1;31m---------------------------------------------------------------------------\u001b[0m",
      "\u001b[1;31mTypeError\u001b[0m                                 Traceback (most recent call last)",
      "File \u001b[1;32m~\\AppData\\Local\\Programs\\Python\\Python310\\lib\\site-packages\\pandas\\core\\ops\\array_ops.py:305\u001b[0m, in \u001b[0;36mna_logical_op\u001b[1;34m(x, y, op)\u001b[0m\n\u001b[0;32m    296\u001b[0m \u001b[38;5;28;01mtry\u001b[39;00m:\n\u001b[0;32m    297\u001b[0m     \u001b[38;5;66;03m# For exposition, write:\u001b[39;00m\n\u001b[0;32m    298\u001b[0m     \u001b[38;5;66;03m#  yarr = isinstance(y, np.ndarray)\u001b[39;00m\n\u001b[1;32m   (...)\u001b[0m\n\u001b[0;32m    303\u001b[0m     \u001b[38;5;66;03m# Then Cases where this goes through without raising include:\u001b[39;00m\n\u001b[0;32m    304\u001b[0m     \u001b[38;5;66;03m#  (xint or xbool) and (yint or bool)\u001b[39;00m\n\u001b[1;32m--> 305\u001b[0m     result \u001b[38;5;241m=\u001b[39m \u001b[43mop\u001b[49m\u001b[43m(\u001b[49m\u001b[43mx\u001b[49m\u001b[43m,\u001b[49m\u001b[43m \u001b[49m\u001b[43my\u001b[49m\u001b[43m)\u001b[49m\n\u001b[0;32m    306\u001b[0m \u001b[38;5;28;01mexcept\u001b[39;00m \u001b[38;5;167;01mTypeError\u001b[39;00m:\n",
      "File \u001b[1;32m~\\AppData\\Local\\Programs\\Python\\Python310\\lib\\site-packages\\pandas\\core\\roperator.py:58\u001b[0m, in \u001b[0;36mror_\u001b[1;34m(left, right)\u001b[0m\n\u001b[0;32m     57\u001b[0m \u001b[38;5;28;01mdef\u001b[39;00m \u001b[38;5;21mror_\u001b[39m(left, right):\n\u001b[1;32m---> 58\u001b[0m     \u001b[38;5;28;01mreturn\u001b[39;00m \u001b[43moperator\u001b[49m\u001b[38;5;241;43m.\u001b[39;49m\u001b[43mor_\u001b[49m\u001b[43m(\u001b[49m\u001b[43mright\u001b[49m\u001b[43m,\u001b[49m\u001b[43m \u001b[49m\u001b[43mleft\u001b[49m\u001b[43m)\u001b[49m\n",
      "\u001b[1;31mTypeError\u001b[0m: unsupported operand type(s) for |: 'NoneType' and 'bool'",
      "\nDuring handling of the above exception, another exception occurred:\n",
      "\u001b[1;31mValueError\u001b[0m                                Traceback (most recent call last)",
      "File \u001b[1;32m~\\AppData\\Local\\Programs\\Python\\Python310\\lib\\site-packages\\pandas\\core\\ops\\array_ops.py:319\u001b[0m, in \u001b[0;36mna_logical_op\u001b[1;34m(x, y, op)\u001b[0m\n\u001b[0;32m    318\u001b[0m \u001b[38;5;28;01mtry\u001b[39;00m:\n\u001b[1;32m--> 319\u001b[0m     result \u001b[38;5;241m=\u001b[39m \u001b[43mlibops\u001b[49m\u001b[38;5;241;43m.\u001b[39;49m\u001b[43mscalar_binop\u001b[49m\u001b[43m(\u001b[49m\u001b[43mx\u001b[49m\u001b[43m,\u001b[49m\u001b[43m \u001b[49m\u001b[43my\u001b[49m\u001b[43m,\u001b[49m\u001b[43m \u001b[49m\u001b[43mop\u001b[49m\u001b[43m)\u001b[49m\n\u001b[0;32m    320\u001b[0m \u001b[38;5;28;01mexcept\u001b[39;00m (\n\u001b[0;32m    321\u001b[0m     \u001b[38;5;167;01mTypeError\u001b[39;00m,\n\u001b[0;32m    322\u001b[0m     \u001b[38;5;167;01mValueError\u001b[39;00m,\n\u001b[1;32m   (...)\u001b[0m\n\u001b[0;32m    325\u001b[0m     \u001b[38;5;167;01mNotImplementedError\u001b[39;00m,\n\u001b[0;32m    326\u001b[0m ) \u001b[38;5;28;01mas\u001b[39;00m err:\n",
      "File \u001b[1;32m~\\AppData\\Local\\Programs\\Python\\Python310\\lib\\site-packages\\pandas\\_libs\\ops.pyx:180\u001b[0m, in \u001b[0;36mpandas._libs.ops.scalar_binop\u001b[1;34m()\u001b[0m\n",
      "\u001b[1;31mValueError\u001b[0m: Buffer has wrong number of dimensions (expected 1, got 2)",
      "\nThe above exception was the direct cause of the following exception:\n",
      "\u001b[1;31mTypeError\u001b[0m                                 Traceback (most recent call last)",
      "Cell \u001b[1;32mIn[10], line 2\u001b[0m\n\u001b[0;32m      1\u001b[0m \u001b[38;5;66;03m#The data point where we have false that means these values are valid whereas true indicates presence of an outlier\u001b[39;00m\n\u001b[1;32m----> 2\u001b[0m \u001b[38;5;28;43mprint\u001b[39;49m\u001b[43m(\u001b[49m\u001b[43mdf\u001b[49m\u001b[43m \u001b[49m\u001b[38;5;241;43m<\u001b[39;49m\u001b[43m \u001b[49m\u001b[43m(\u001b[49m\u001b[43mq1\u001b[49m\u001b[38;5;241;43m-\u001b[39;49m\u001b[38;5;241;43m1.5\u001b[39;49m\u001b[38;5;241;43m*\u001b[39;49m\u001b[43miqr\u001b[49m\u001b[43m)\u001b[49m\u001b[43m)\u001b[49m\u001b[43m \u001b[49m\u001b[38;5;241;43m|\u001b[39;49m\u001b[43m \u001b[49m\u001b[43m(\u001b[49m\u001b[43mdf\u001b[49m\u001b[43m \u001b[49m\u001b[38;5;241;43m>\u001b[39;49m\u001b[43m \u001b[49m\u001b[43m(\u001b[49m\u001b[43mq3\u001b[49m\u001b[38;5;241;43m+\u001b[39;49m\u001b[38;5;241;43m1.5\u001b[39;49m\u001b[38;5;241;43m*\u001b[39;49m\u001b[43miqr\u001b[49m\u001b[43m)\u001b[49m\u001b[43m)\u001b[49m\n",
      "File \u001b[1;32m~\\AppData\\Local\\Programs\\Python\\Python310\\lib\\site-packages\\pandas\\core\\ops\\common.py:72\u001b[0m, in \u001b[0;36m_unpack_zerodim_and_defer.<locals>.new_method\u001b[1;34m(self, other)\u001b[0m\n\u001b[0;32m     68\u001b[0m             \u001b[38;5;28;01mreturn\u001b[39;00m \u001b[38;5;28mNotImplemented\u001b[39m\n\u001b[0;32m     70\u001b[0m other \u001b[38;5;241m=\u001b[39m item_from_zerodim(other)\n\u001b[1;32m---> 72\u001b[0m \u001b[38;5;28;01mreturn\u001b[39;00m \u001b[43mmethod\u001b[49m\u001b[43m(\u001b[49m\u001b[38;5;28;43mself\u001b[39;49m\u001b[43m,\u001b[49m\u001b[43m \u001b[49m\u001b[43mother\u001b[49m\u001b[43m)\u001b[49m\n",
      "File \u001b[1;32m~\\AppData\\Local\\Programs\\Python\\Python310\\lib\\site-packages\\pandas\\core\\arraylike.py:84\u001b[0m, in \u001b[0;36mOpsMixin.__ror__\u001b[1;34m(self, other)\u001b[0m\n\u001b[0;32m     82\u001b[0m \u001b[38;5;129m@unpack_zerodim_and_defer\u001b[39m(\u001b[38;5;124m\"\u001b[39m\u001b[38;5;124m__ror__\u001b[39m\u001b[38;5;124m\"\u001b[39m)\n\u001b[0;32m     83\u001b[0m \u001b[38;5;28;01mdef\u001b[39;00m \u001b[38;5;21m__ror__\u001b[39m(\u001b[38;5;28mself\u001b[39m, other):\n\u001b[1;32m---> 84\u001b[0m     \u001b[38;5;28;01mreturn\u001b[39;00m \u001b[38;5;28;43mself\u001b[39;49m\u001b[38;5;241;43m.\u001b[39;49m\u001b[43m_logical_method\u001b[49m\u001b[43m(\u001b[49m\u001b[43mother\u001b[49m\u001b[43m,\u001b[49m\u001b[43m \u001b[49m\u001b[43mroperator\u001b[49m\u001b[38;5;241;43m.\u001b[39;49m\u001b[43mror_\u001b[49m\u001b[43m)\u001b[49m\n",
      "File \u001b[1;32m~\\AppData\\Local\\Programs\\Python\\Python310\\lib\\site-packages\\pandas\\core\\frame.py:7594\u001b[0m, in \u001b[0;36mDataFrame._arith_method\u001b[1;34m(self, other, op)\u001b[0m\n\u001b[0;32m   7590\u001b[0m other \u001b[38;5;241m=\u001b[39m ops\u001b[38;5;241m.\u001b[39mmaybe_prepare_scalar_for_op(other, (\u001b[38;5;28mself\u001b[39m\u001b[38;5;241m.\u001b[39mshape[axis],))\n\u001b[0;32m   7592\u001b[0m \u001b[38;5;28mself\u001b[39m, other \u001b[38;5;241m=\u001b[39m ops\u001b[38;5;241m.\u001b[39malign_method_FRAME(\u001b[38;5;28mself\u001b[39m, other, axis, flex\u001b[38;5;241m=\u001b[39m\u001b[38;5;28;01mTrue\u001b[39;00m, level\u001b[38;5;241m=\u001b[39m\u001b[38;5;28;01mNone\u001b[39;00m)\n\u001b[1;32m-> 7594\u001b[0m new_data \u001b[38;5;241m=\u001b[39m \u001b[38;5;28;43mself\u001b[39;49m\u001b[38;5;241;43m.\u001b[39;49m\u001b[43m_dispatch_frame_op\u001b[49m\u001b[43m(\u001b[49m\u001b[43mother\u001b[49m\u001b[43m,\u001b[49m\u001b[43m \u001b[49m\u001b[43mop\u001b[49m\u001b[43m,\u001b[49m\u001b[43m \u001b[49m\u001b[43maxis\u001b[49m\u001b[38;5;241;43m=\u001b[39;49m\u001b[43maxis\u001b[49m\u001b[43m)\u001b[49m\n\u001b[0;32m   7595\u001b[0m \u001b[38;5;28;01mreturn\u001b[39;00m \u001b[38;5;28mself\u001b[39m\u001b[38;5;241m.\u001b[39m_construct_result(new_data)\n",
      "File \u001b[1;32m~\\AppData\\Local\\Programs\\Python\\Python310\\lib\\site-packages\\pandas\\core\\frame.py:7621\u001b[0m, in \u001b[0;36mDataFrame._dispatch_frame_op\u001b[1;34m(self, right, func, axis)\u001b[0m\n\u001b[0;32m   7618\u001b[0m \u001b[38;5;28;01mif\u001b[39;00m \u001b[38;5;129;01mnot\u001b[39;00m is_list_like(right):\n\u001b[0;32m   7619\u001b[0m     \u001b[38;5;66;03m# i.e. scalar, faster than checking np.ndim(right) == 0\u001b[39;00m\n\u001b[0;32m   7620\u001b[0m     \u001b[38;5;28;01mwith\u001b[39;00m np\u001b[38;5;241m.\u001b[39merrstate(\u001b[38;5;28mall\u001b[39m\u001b[38;5;241m=\u001b[39m\u001b[38;5;124m\"\u001b[39m\u001b[38;5;124mignore\u001b[39m\u001b[38;5;124m\"\u001b[39m):\n\u001b[1;32m-> 7621\u001b[0m         bm \u001b[38;5;241m=\u001b[39m \u001b[38;5;28;43mself\u001b[39;49m\u001b[38;5;241;43m.\u001b[39;49m\u001b[43m_mgr\u001b[49m\u001b[38;5;241;43m.\u001b[39;49m\u001b[43mapply\u001b[49m\u001b[43m(\u001b[49m\u001b[43marray_op\u001b[49m\u001b[43m,\u001b[49m\u001b[43m \u001b[49m\u001b[43mright\u001b[49m\u001b[38;5;241;43m=\u001b[39;49m\u001b[43mright\u001b[49m\u001b[43m)\u001b[49m\n\u001b[0;32m   7622\u001b[0m     \u001b[38;5;28;01mreturn\u001b[39;00m \u001b[38;5;28mself\u001b[39m\u001b[38;5;241m.\u001b[39m_constructor(bm)\n\u001b[0;32m   7624\u001b[0m \u001b[38;5;28;01melif\u001b[39;00m \u001b[38;5;28misinstance\u001b[39m(right, DataFrame):\n",
      "File \u001b[1;32m~\\AppData\\Local\\Programs\\Python\\Python310\\lib\\site-packages\\pandas\\core\\internals\\managers.py:350\u001b[0m, in \u001b[0;36mBaseBlockManager.apply\u001b[1;34m(self, f, align_keys, ignore_failures, **kwargs)\u001b[0m\n\u001b[0;32m    348\u001b[0m \u001b[38;5;28;01mtry\u001b[39;00m:\n\u001b[0;32m    349\u001b[0m     \u001b[38;5;28;01mif\u001b[39;00m callable(f):\n\u001b[1;32m--> 350\u001b[0m         applied \u001b[38;5;241m=\u001b[39m b\u001b[38;5;241m.\u001b[39mapply(f, \u001b[38;5;241m*\u001b[39m\u001b[38;5;241m*\u001b[39mkwargs)\n\u001b[0;32m    351\u001b[0m     \u001b[38;5;28;01melse\u001b[39;00m:\n\u001b[0;32m    352\u001b[0m         applied \u001b[38;5;241m=\u001b[39m \u001b[38;5;28mgetattr\u001b[39m(b, f)(\u001b[38;5;241m*\u001b[39m\u001b[38;5;241m*\u001b[39mkwargs)\n",
      "File \u001b[1;32m~\\AppData\\Local\\Programs\\Python\\Python310\\lib\\site-packages\\pandas\\core\\internals\\blocks.py:351\u001b[0m, in \u001b[0;36mBlock.apply\u001b[1;34m(self, func, **kwargs)\u001b[0m\n\u001b[0;32m    345\u001b[0m \u001b[38;5;129m@final\u001b[39m\n\u001b[0;32m    346\u001b[0m \u001b[38;5;28;01mdef\u001b[39;00m \u001b[38;5;21mapply\u001b[39m(\u001b[38;5;28mself\u001b[39m, func, \u001b[38;5;241m*\u001b[39m\u001b[38;5;241m*\u001b[39mkwargs) \u001b[38;5;241m-\u001b[39m\u001b[38;5;241m>\u001b[39m \u001b[38;5;28mlist\u001b[39m[Block]:\n\u001b[0;32m    347\u001b[0m \u001b[38;5;250m    \u001b[39m\u001b[38;5;124;03m\"\"\"\u001b[39;00m\n\u001b[0;32m    348\u001b[0m \u001b[38;5;124;03m    apply the function to my values; return a block if we are not\u001b[39;00m\n\u001b[0;32m    349\u001b[0m \u001b[38;5;124;03m    one\u001b[39;00m\n\u001b[0;32m    350\u001b[0m \u001b[38;5;124;03m    \"\"\"\u001b[39;00m\n\u001b[1;32m--> 351\u001b[0m     result \u001b[38;5;241m=\u001b[39m func(\u001b[38;5;28mself\u001b[39m\u001b[38;5;241m.\u001b[39mvalues, \u001b[38;5;241m*\u001b[39m\u001b[38;5;241m*\u001b[39mkwargs)\n\u001b[0;32m    353\u001b[0m     \u001b[38;5;28;01mreturn\u001b[39;00m \u001b[38;5;28mself\u001b[39m\u001b[38;5;241m.\u001b[39m_split_op_result(result)\n",
      "File \u001b[1;32m~\\AppData\\Local\\Programs\\Python\\Python310\\lib\\site-packages\\pandas\\core\\ops\\array_ops.py:395\u001b[0m, in \u001b[0;36mlogical_op\u001b[1;34m(left, right, op)\u001b[0m\n\u001b[0;32m    391\u001b[0m \u001b[38;5;66;03m# For int vs int `^`, `|`, `&` are bitwise operators and return\u001b[39;00m\n\u001b[0;32m    392\u001b[0m \u001b[38;5;66;03m#   integer dtypes.  Otherwise these are boolean ops\u001b[39;00m\n\u001b[0;32m    393\u001b[0m filler \u001b[38;5;241m=\u001b[39m fill_int \u001b[38;5;28;01mif\u001b[39;00m is_self_int_dtype \u001b[38;5;129;01mand\u001b[39;00m is_other_int_dtype \u001b[38;5;28;01melse\u001b[39;00m fill_bool\n\u001b[1;32m--> 395\u001b[0m res_values \u001b[38;5;241m=\u001b[39m \u001b[43mna_logical_op\u001b[49m\u001b[43m(\u001b[49m\u001b[43mlvalues\u001b[49m\u001b[43m,\u001b[49m\u001b[43m \u001b[49m\u001b[43mrvalues\u001b[49m\u001b[43m,\u001b[49m\u001b[43m \u001b[49m\u001b[43mop\u001b[49m\u001b[43m)\u001b[49m\n\u001b[0;32m    396\u001b[0m \u001b[38;5;66;03m# error: Cannot call function of unknown type\u001b[39;00m\n\u001b[0;32m    397\u001b[0m res_values \u001b[38;5;241m=\u001b[39m filler(res_values)  \u001b[38;5;66;03m# type: ignore[operator]\u001b[39;00m\n",
      "File \u001b[1;32m~\\AppData\\Local\\Programs\\Python\\Python310\\lib\\site-packages\\pandas\\core\\ops\\array_ops.py:328\u001b[0m, in \u001b[0;36mna_logical_op\u001b[1;34m(x, y, op)\u001b[0m\n\u001b[0;32m    320\u001b[0m         \u001b[38;5;28;01mexcept\u001b[39;00m (\n\u001b[0;32m    321\u001b[0m             \u001b[38;5;167;01mTypeError\u001b[39;00m,\n\u001b[0;32m    322\u001b[0m             \u001b[38;5;167;01mValueError\u001b[39;00m,\n\u001b[1;32m   (...)\u001b[0m\n\u001b[0;32m    325\u001b[0m             \u001b[38;5;167;01mNotImplementedError\u001b[39;00m,\n\u001b[0;32m    326\u001b[0m         ) \u001b[38;5;28;01mas\u001b[39;00m err:\n\u001b[0;32m    327\u001b[0m             typ \u001b[38;5;241m=\u001b[39m \u001b[38;5;28mtype\u001b[39m(y)\u001b[38;5;241m.\u001b[39m\u001b[38;5;18m__name__\u001b[39m\n\u001b[1;32m--> 328\u001b[0m             \u001b[38;5;28;01mraise\u001b[39;00m \u001b[38;5;167;01mTypeError\u001b[39;00m(\n\u001b[0;32m    329\u001b[0m                 \u001b[38;5;124mf\u001b[39m\u001b[38;5;124m\"\u001b[39m\u001b[38;5;124mCannot perform \u001b[39m\u001b[38;5;124m'\u001b[39m\u001b[38;5;132;01m{\u001b[39;00mop\u001b[38;5;241m.\u001b[39m\u001b[38;5;18m__name__\u001b[39m\u001b[38;5;132;01m}\u001b[39;00m\u001b[38;5;124m'\u001b[39m\u001b[38;5;124m with a dtyped [\u001b[39m\u001b[38;5;132;01m{\u001b[39;00mx\u001b[38;5;241m.\u001b[39mdtype\u001b[38;5;132;01m}\u001b[39;00m\u001b[38;5;124m] array \u001b[39m\u001b[38;5;124m\"\u001b[39m\n\u001b[0;32m    330\u001b[0m                 \u001b[38;5;124mf\u001b[39m\u001b[38;5;124m\"\u001b[39m\u001b[38;5;124mand scalar of type [\u001b[39m\u001b[38;5;132;01m{\u001b[39;00mtyp\u001b[38;5;132;01m}\u001b[39;00m\u001b[38;5;124m]\u001b[39m\u001b[38;5;124m\"\u001b[39m\n\u001b[0;32m    331\u001b[0m             ) \u001b[38;5;28;01mfrom\u001b[39;00m \u001b[38;5;21;01merr\u001b[39;00m\n\u001b[0;32m    333\u001b[0m \u001b[38;5;28;01mreturn\u001b[39;00m result\u001b[38;5;241m.\u001b[39mreshape(x\u001b[38;5;241m.\u001b[39mshape)\n",
      "\u001b[1;31mTypeError\u001b[0m: Cannot perform 'ror_' with a dtyped [bool] array and scalar of type [NoneType]"
     ]
    }
   ],
   "source": [
    "#The data point where we have false that means these values are valid whereas true indicates presence of an outlier\n",
    "print(df < (q1-1.5*iqr)) | (df > (q3+1.5*iqr))"
   ]
  },
  {
   "cell_type": "code",
   "execution_count": 11,
   "id": "f8bdcfb2",
   "metadata": {},
   "outputs": [
    {
     "data": {
      "text/plain": [
       "(834, 13)"
      ]
     },
     "execution_count": 11,
     "metadata": {},
     "output_type": "execute_result"
    }
   ],
   "source": [
    "df_out= df[~((df < (q1-1.5*iqr)) | (df > (q3+1.5*iqr))).any(axis=1)]\n",
    "df_out.shape"
   ]
  },
  {
   "cell_type": "code",
   "execution_count": 12,
   "id": "77cd2b01",
   "metadata": {},
   "outputs": [
    {
     "data": {
      "text/html": [
       "<div>\n",
       "<style scoped>\n",
       "    .dataframe tbody tr th:only-of-type {\n",
       "        vertical-align: middle;\n",
       "    }\n",
       "\n",
       "    .dataframe tbody tr th {\n",
       "        vertical-align: top;\n",
       "    }\n",
       "\n",
       "    .dataframe thead th {\n",
       "        text-align: right;\n",
       "    }\n",
       "</style>\n",
       "<table border=\"1\" class=\"dataframe\">\n",
       "  <thead>\n",
       "    <tr style=\"text-align: right;\">\n",
       "      <th></th>\n",
       "      <th>fixed acidity</th>\n",
       "      <th>volatile acidity</th>\n",
       "      <th>citric acid</th>\n",
       "      <th>residual sugar</th>\n",
       "      <th>chlorides</th>\n",
       "      <th>free sulfur dioxide</th>\n",
       "      <th>total sulfur dioxide</th>\n",
       "      <th>density</th>\n",
       "      <th>pH</th>\n",
       "      <th>sulphates</th>\n",
       "      <th>alcohol</th>\n",
       "      <th>quality</th>\n",
       "      <th>Id</th>\n",
       "    </tr>\n",
       "  </thead>\n",
       "  <tbody>\n",
       "    <tr>\n",
       "      <th>0</th>\n",
       "      <td>7.4</td>\n",
       "      <td>0.700</td>\n",
       "      <td>0.00</td>\n",
       "      <td>1.9</td>\n",
       "      <td>0.076</td>\n",
       "      <td>11.0</td>\n",
       "      <td>34.0</td>\n",
       "      <td>0.99780</td>\n",
       "      <td>3.51</td>\n",
       "      <td>0.56</td>\n",
       "      <td>9.4</td>\n",
       "      <td>5</td>\n",
       "      <td>0</td>\n",
       "    </tr>\n",
       "    <tr>\n",
       "      <th>1</th>\n",
       "      <td>7.8</td>\n",
       "      <td>0.880</td>\n",
       "      <td>0.00</td>\n",
       "      <td>2.6</td>\n",
       "      <td>0.098</td>\n",
       "      <td>25.0</td>\n",
       "      <td>67.0</td>\n",
       "      <td>0.99680</td>\n",
       "      <td>3.20</td>\n",
       "      <td>0.68</td>\n",
       "      <td>9.8</td>\n",
       "      <td>5</td>\n",
       "      <td>1</td>\n",
       "    </tr>\n",
       "    <tr>\n",
       "      <th>2</th>\n",
       "      <td>7.8</td>\n",
       "      <td>0.760</td>\n",
       "      <td>0.04</td>\n",
       "      <td>2.3</td>\n",
       "      <td>0.092</td>\n",
       "      <td>15.0</td>\n",
       "      <td>54.0</td>\n",
       "      <td>0.99700</td>\n",
       "      <td>3.26</td>\n",
       "      <td>0.65</td>\n",
       "      <td>9.8</td>\n",
       "      <td>5</td>\n",
       "      <td>2</td>\n",
       "    </tr>\n",
       "    <tr>\n",
       "      <th>3</th>\n",
       "      <td>11.2</td>\n",
       "      <td>0.280</td>\n",
       "      <td>0.56</td>\n",
       "      <td>1.9</td>\n",
       "      <td>0.075</td>\n",
       "      <td>17.0</td>\n",
       "      <td>60.0</td>\n",
       "      <td>0.99800</td>\n",
       "      <td>3.16</td>\n",
       "      <td>0.58</td>\n",
       "      <td>9.8</td>\n",
       "      <td>6</td>\n",
       "      <td>3</td>\n",
       "    </tr>\n",
       "    <tr>\n",
       "      <th>4</th>\n",
       "      <td>7.4</td>\n",
       "      <td>0.700</td>\n",
       "      <td>0.00</td>\n",
       "      <td>1.9</td>\n",
       "      <td>0.076</td>\n",
       "      <td>11.0</td>\n",
       "      <td>34.0</td>\n",
       "      <td>0.99780</td>\n",
       "      <td>3.51</td>\n",
       "      <td>0.56</td>\n",
       "      <td>9.4</td>\n",
       "      <td>5</td>\n",
       "      <td>4</td>\n",
       "    </tr>\n",
       "    <tr>\n",
       "      <th>...</th>\n",
       "      <td>...</td>\n",
       "      <td>...</td>\n",
       "      <td>...</td>\n",
       "      <td>...</td>\n",
       "      <td>...</td>\n",
       "      <td>...</td>\n",
       "      <td>...</td>\n",
       "      <td>...</td>\n",
       "      <td>...</td>\n",
       "      <td>...</td>\n",
       "      <td>...</td>\n",
       "      <td>...</td>\n",
       "      <td>...</td>\n",
       "    </tr>\n",
       "    <tr>\n",
       "      <th>1138</th>\n",
       "      <td>6.3</td>\n",
       "      <td>0.510</td>\n",
       "      <td>0.13</td>\n",
       "      <td>2.3</td>\n",
       "      <td>0.076</td>\n",
       "      <td>29.0</td>\n",
       "      <td>40.0</td>\n",
       "      <td>0.99574</td>\n",
       "      <td>3.42</td>\n",
       "      <td>0.75</td>\n",
       "      <td>11.0</td>\n",
       "      <td>6</td>\n",
       "      <td>1592</td>\n",
       "    </tr>\n",
       "    <tr>\n",
       "      <th>1139</th>\n",
       "      <td>6.8</td>\n",
       "      <td>0.620</td>\n",
       "      <td>0.08</td>\n",
       "      <td>1.9</td>\n",
       "      <td>0.068</td>\n",
       "      <td>28.0</td>\n",
       "      <td>38.0</td>\n",
       "      <td>0.99651</td>\n",
       "      <td>3.42</td>\n",
       "      <td>0.82</td>\n",
       "      <td>9.5</td>\n",
       "      <td>6</td>\n",
       "      <td>1593</td>\n",
       "    </tr>\n",
       "    <tr>\n",
       "      <th>1140</th>\n",
       "      <td>6.2</td>\n",
       "      <td>0.600</td>\n",
       "      <td>0.08</td>\n",
       "      <td>2.0</td>\n",
       "      <td>0.090</td>\n",
       "      <td>32.0</td>\n",
       "      <td>44.0</td>\n",
       "      <td>0.99490</td>\n",
       "      <td>3.45</td>\n",
       "      <td>0.58</td>\n",
       "      <td>10.5</td>\n",
       "      <td>5</td>\n",
       "      <td>1594</td>\n",
       "    </tr>\n",
       "    <tr>\n",
       "      <th>1141</th>\n",
       "      <td>5.9</td>\n",
       "      <td>0.550</td>\n",
       "      <td>0.10</td>\n",
       "      <td>2.2</td>\n",
       "      <td>0.062</td>\n",
       "      <td>39.0</td>\n",
       "      <td>51.0</td>\n",
       "      <td>0.99512</td>\n",
       "      <td>3.52</td>\n",
       "      <td>0.76</td>\n",
       "      <td>11.2</td>\n",
       "      <td>6</td>\n",
       "      <td>1595</td>\n",
       "    </tr>\n",
       "    <tr>\n",
       "      <th>1142</th>\n",
       "      <td>5.9</td>\n",
       "      <td>0.645</td>\n",
       "      <td>0.12</td>\n",
       "      <td>2.0</td>\n",
       "      <td>0.075</td>\n",
       "      <td>32.0</td>\n",
       "      <td>44.0</td>\n",
       "      <td>0.99547</td>\n",
       "      <td>3.57</td>\n",
       "      <td>0.71</td>\n",
       "      <td>10.2</td>\n",
       "      <td>5</td>\n",
       "      <td>1597</td>\n",
       "    </tr>\n",
       "  </tbody>\n",
       "</table>\n",
       "<p>834 rows × 13 columns</p>\n",
       "</div>"
      ],
      "text/plain": [
       "      fixed acidity  volatile acidity  citric acid  residual sugar  chlorides  \\\n",
       "0               7.4             0.700         0.00             1.9      0.076   \n",
       "1               7.8             0.880         0.00             2.6      0.098   \n",
       "2               7.8             0.760         0.04             2.3      0.092   \n",
       "3              11.2             0.280         0.56             1.9      0.075   \n",
       "4               7.4             0.700         0.00             1.9      0.076   \n",
       "...             ...               ...          ...             ...        ...   \n",
       "1138            6.3             0.510         0.13             2.3      0.076   \n",
       "1139            6.8             0.620         0.08             1.9      0.068   \n",
       "1140            6.2             0.600         0.08             2.0      0.090   \n",
       "1141            5.9             0.550         0.10             2.2      0.062   \n",
       "1142            5.9             0.645         0.12             2.0      0.075   \n",
       "\n",
       "      free sulfur dioxide  total sulfur dioxide  density    pH  sulphates  \\\n",
       "0                    11.0                  34.0  0.99780  3.51       0.56   \n",
       "1                    25.0                  67.0  0.99680  3.20       0.68   \n",
       "2                    15.0                  54.0  0.99700  3.26       0.65   \n",
       "3                    17.0                  60.0  0.99800  3.16       0.58   \n",
       "4                    11.0                  34.0  0.99780  3.51       0.56   \n",
       "...                   ...                   ...      ...   ...        ...   \n",
       "1138                 29.0                  40.0  0.99574  3.42       0.75   \n",
       "1139                 28.0                  38.0  0.99651  3.42       0.82   \n",
       "1140                 32.0                  44.0  0.99490  3.45       0.58   \n",
       "1141                 39.0                  51.0  0.99512  3.52       0.76   \n",
       "1142                 32.0                  44.0  0.99547  3.57       0.71   \n",
       "\n",
       "      alcohol  quality    Id  \n",
       "0         9.4        5     0  \n",
       "1         9.8        5     1  \n",
       "2         9.8        5     2  \n",
       "3         9.8        6     3  \n",
       "4         9.4        5     4  \n",
       "...       ...      ...   ...  \n",
       "1138     11.0        6  1592  \n",
       "1139      9.5        6  1593  \n",
       "1140     10.5        5  1594  \n",
       "1141     11.2        6  1595  \n",
       "1142     10.2        5  1597  \n",
       "\n",
       "[834 rows x 13 columns]"
      ]
     },
     "execution_count": 12,
     "metadata": {},
     "output_type": "execute_result"
    }
   ],
   "source": [
    "df_out"
   ]
  },
  {
   "cell_type": "code",
   "execution_count": 13,
   "id": "a5479b7d",
   "metadata": {},
   "outputs": [
    {
     "name": "stdout",
     "output_type": "stream",
     "text": [
      "fixed acidity           0.117844\n",
      "volatile acidity       -0.356948\n",
      "citric acid             0.228060\n",
      "residual sugar         -0.014981\n",
      "chlorides              -0.190625\n",
      "free sulfur dioxide    -0.001257\n",
      "total sulfur dioxide   -0.209743\n",
      "density                -0.208410\n",
      "pH                     -0.042515\n",
      "sulphates               0.417164\n",
      "alcohol                 0.495364\n",
      "Id                      0.120168\n",
      "Name: quality, dtype: float64\n"
     ]
    }
   ],
   "source": [
    "corre = df_out.corr()['quality'].drop('quality')\n",
    "print(corre)"
   ]
  },
  {
   "cell_type": "code",
   "execution_count": 14,
   "id": "3fa0223e",
   "metadata": {},
   "outputs": [
    {
     "data": {
      "image/png": "[encoded data removed]",
      "text/plain": [
       "<Figure size 640x480 with 2 Axes>"
      ]
     },
     "metadata": {},
     "output_type": "display_data"
    }
   ],
   "source": [
    "sns.heatmap(df.corr())\n",
    "plt.show()"
   ]
  },
  {
   "cell_type": "code",
   "execution_count": 15,
   "id": "a3bc57df",
   "metadata": {},
   "outputs": [
    {
     "data": {
      "text/plain": [
       "alcohol                 0.495364\n",
       "sulphates               0.417164\n",
       "citric acid             0.228060\n",
       "Id                      0.120168\n",
       "fixed acidity           0.117844\n",
       "free sulfur dioxide    -0.001257\n",
       "residual sugar         -0.014981\n",
       "pH                     -0.042515\n",
       "chlorides              -0.190625\n",
       "density                -0.208410\n",
       "total sulfur dioxide   -0.209743\n",
       "volatile acidity       -0.356948\n",
       "Name: quality, dtype: float64"
      ]
     },
     "execution_count": 15,
     "metadata": {},
     "output_type": "execute_result"
    }
   ],
   "source": [
    "#impact of various factor on quality\n",
    "corre.sort_values(ascending= False)"
   ]
  },
  {
   "cell_type": "code",
   "execution_count": 16,
   "id": "b9afc0e8",
   "metadata": {},
   "outputs": [
    {
     "data": {
      "text/plain": [
       "Index(['fixed acidity', 'volatile acidity', 'citric acid', 'residual sugar',\n",
       "       'chlorides', 'free sulfur dioxide', 'total sulfur dioxide', 'density',\n",
       "       'pH', 'sulphates', 'alcohol', 'quality', 'Id'],\n",
       "      dtype='object')"
      ]
     },
     "execution_count": 16,
     "metadata": {},
     "output_type": "execute_result"
    }
   ],
   "source": [
    "df.columns"
   ]
  },
  {
   "cell_type": "code",
   "execution_count": 17,
   "id": "330f571a",
   "metadata": {},
   "outputs": [],
   "source": [
    "y= df['quality']\n",
    "x= df[['fixed acidity', 'volatile acidity', 'citric acid', 'residual sugar',\n",
    "       'chlorides', 'free sulfur dioxide', 'total sulfur dioxide', 'density',\n",
    "       'pH', 'sulphates', 'alcohol']]\n",
    "x_train, x_test, y_train, y_test= train_test_split(x,y, test_size= 0.2)"
   ]
  },
  {
   "cell_type": "code",
   "execution_count": 18,
   "id": "ae8d5783",
   "metadata": {},
   "outputs": [
    {
     "data": {
      "text/html": [
       "<style>#sk-container-id-1 {color: black;}#sk-container-id-1 pre{padding: 0;}#sk-container-id-1 div.sk-toggleable {background-color: white;}#sk-container-id-1 label.sk-toggleable__label {cursor: pointer;display: block;width: 100%;margin-bottom: 0;padding: 0.3em;box-sizing: border-box;text-align: center;}#sk-container-id-1 label.sk-toggleable__label-arrow:before {content: \"▸\";float: left;margin-right: 0.25em;color: #696969;}#sk-container-id-1 label.sk-toggleable__label-arrow:hover:before {color: black;}#sk-container-id-1 div.sk-estimator:hover label.sk-toggleable__label-arrow:before {color: black;}#sk-container-id-1 div.sk-toggleable__content {max-height: 0;max-width: 0;overflow: hidden;text-align: left;background-color: #f0f8ff;}#sk-container-id-1 div.sk-toggleable__content pre {margin: 0.2em;color: black;border-radius: 0.25em;background-color: #f0f8ff;}#sk-container-id-1 input.sk-toggleable__control:checked~div.sk-toggleable__content {max-height: 200px;max-width: 100%;overflow: auto;}#sk-container-id-1 input.sk-toggleable__control:checked~label.sk-toggleable__label-arrow:before {content: \"▾\";}#sk-container-id-1 div.sk-estimator input.sk-toggleable__control:checked~label.sk-toggleable__label {background-color: #d4ebff;}#sk-container-id-1 div.sk-label input.sk-toggleable__control:checked~label.sk-toggleable__label {background-color: #d4ebff;}#sk-container-id-1 input.sk-hidden--visually {border: 0;clip: rect(1px 1px 1px 1px);clip: rect(1px, 1px, 1px, 1px);height: 1px;margin: -1px;overflow: hidden;padding: 0;position: absolute;width: 1px;}#sk-container-id-1 div.sk-estimator {font-family: monospace;background-color: #f0f8ff;border: 1px dotted black;border-radius: 0.25em;box-sizing: border-box;margin-bottom: 0.5em;}#sk-container-id-1 div.sk-estimator:hover {background-color: #d4ebff;}#sk-container-id-1 div.sk-parallel-item::after {content: \"\";width: 100%;border-bottom: 1px solid gray;flex-grow: 1;}#sk-container-id-1 div.sk-label:hover label.sk-toggleable__label {background-color: #d4ebff;}#sk-container-id-1 div.sk-serial::before {content: \"\";position: absolute;border-left: 1px solid gray;box-sizing: border-box;top: 0;bottom: 0;left: 50%;z-index: 0;}#sk-container-id-1 div.sk-serial {display: flex;flex-direction: column;align-items: center;background-color: white;padding-right: 0.2em;padding-left: 0.2em;position: relative;}#sk-container-id-1 div.sk-item {position: relative;z-index: 1;}#sk-container-id-1 div.sk-parallel {display: flex;align-items: stretch;justify-content: center;background-color: white;position: relative;}#sk-container-id-1 div.sk-item::before, #sk-container-id-1 div.sk-parallel-item::before {content: \"\";position: absolute;border-left: 1px solid gray;box-sizing: border-box;top: 0;bottom: 0;left: 50%;z-index: -1;}#sk-container-id-1 div.sk-parallel-item {display: flex;flex-direction: column;z-index: 1;position: relative;background-color: white;}#sk-container-id-1 div.sk-parallel-item:first-child::after {align-self: flex-end;width: 50%;}#sk-container-id-1 div.sk-parallel-item:last-child::after {align-self: flex-start;width: 50%;}#sk-container-id-1 div.sk-parallel-item:only-child::after {width: 0;}#sk-container-id-1 div.sk-dashed-wrapped {border: 1px dashed gray;margin: 0 0.4em 0.5em 0.4em;box-sizing: border-box;padding-bottom: 0.4em;background-color: white;}#sk-container-id-1 div.sk-label label {font-family: monospace;font-weight: bold;display: inline-block;line-height: 1.2em;}#sk-container-id-1 div.sk-label-container {text-align: center;}#sk-container-id-1 div.sk-container {/* jupyter's `normalize.less` sets `[hidden] { display: none; }` but bootstrap.min.css set `[hidden] { display: none !important; }` so we also need the `!important` here to be able to override the default hidden behavior on the sphinx rendered scikit-learn.org. See: https://github.com/scikit-learn/scikit-learn/issues/21755 */display: inline-block !important;position: relative;}#sk-container-id-1 div.sk-text-repr-fallback {display: none;}</style><div id=\"sk-container-id-1\" class=\"sk-top-container\"><div class=\"sk-text-repr-fallback\"><pre>LinearRegression()</pre><b>In a Jupyter environment, please rerun this cell to show the HTML representation or trust the notebook. <br />On GitHub, the HTML representation is unable to render, please try loading this page with nbviewer.org.</b></div><div class=\"sk-container\" hidden><div class=\"sk-item\"><div class=\"sk-estimator sk-toggleable\"><input class=\"sk-toggleable__control sk-hidden--visually\" id=\"sk-estimator-id-1\" type=\"checkbox\" checked><label for=\"sk-estimator-id-1\" class=\"sk-toggleable__label sk-toggleable__label-arrow\">LinearRegression</label><div class=\"sk-toggleable__content\"><pre>LinearRegression()</pre></div></div></div></div></div>"
      ],
      "text/plain": [
       "LinearRegression()"
      ]
     },
     "execution_count": 18,
     "metadata": {},
     "output_type": "execute_result"
    }
   ],
   "source": [
    "#model training\n",
    "\n",
    "Ln = LinearRegression()\n",
    "Ln.fit(x_train, y_train)"
   ]
  },
  {
   "cell_type": "code",
   "execution_count": 19,
   "id": "a768b054",
   "metadata": {},
   "outputs": [
    {
     "data": {
      "text/plain": [
       "23.976144356375293"
      ]
     },
     "execution_count": 19,
     "metadata": {},
     "output_type": "execute_result"
    }
   ],
   "source": [
    "Ln.intercept_"
   ]
  },
  {
   "cell_type": "code",
   "execution_count": 20,
   "id": "202bbf9b",
   "metadata": {},
   "outputs": [
    {
     "data": {
      "text/plain": [
       "array([5.24952024, 5.13479452, 5.84864628, 6.04981187, 5.90317011,\n",
       "       6.13350167, 6.01237752, 5.90635772, 6.32611368, 4.88259475,\n",
       "       5.37013383, 5.80016008, 5.91208605, 5.02398304, 6.50975591,\n",
       "       5.03711254, 5.98221033, 6.0757296 , 5.33568799, 5.34062372,\n",
       "       6.07429329, 5.39041497, 5.38963749, 5.82151886, 5.50813505,\n",
       "       5.41256416, 5.14313617, 5.45621725, 4.79449014, 5.44363704,\n",
       "       5.66100747, 5.42951209, 5.74989625, 5.08226202, 5.54095053,\n",
       "       5.40722549, 5.95643012, 5.9743945 , 6.66676942, 5.92313465,\n",
       "       5.46777163, 4.99349945, 5.08532372, 5.54343122, 5.89481307,\n",
       "       6.18290046, 5.45381778, 6.25280193, 5.52045796, 5.28416768,\n",
       "       5.02011521, 6.66180908, 6.50403755, 5.52389947, 5.24975922,\n",
       "       5.07809663, 5.53207039, 6.13105958, 5.55926352, 5.84312948,\n",
       "       6.13044651, 4.89081545, 6.44477484, 5.19143147, 5.18451357,\n",
       "       6.22658435, 5.62074815, 5.61448412, 6.6332036 , 6.01475752,\n",
       "       5.79704644, 5.64077378, 5.07809663, 5.55612453, 6.05266624,\n",
       "       5.35811092, 5.21902328, 6.20710123, 5.78753944, 5.76833087,\n",
       "       5.56516927, 6.19159577, 5.94365072, 6.54288776, 6.2150072 ,\n",
       "       6.18524575, 5.63365524, 5.25384617, 5.12577561, 5.36800629,\n",
       "       5.95582334, 5.44758946, 5.60610464, 5.33048543, 6.91315179,\n",
       "       6.11784663, 5.21268581, 5.21892644, 5.68018033, 5.6829886 ,\n",
       "       4.73747682, 5.54034752, 5.53994327, 5.21711676, 5.32682978,\n",
       "       6.009639  , 5.25412638, 6.33473015, 5.78224924, 6.23766272,\n",
       "       5.96547067, 5.84465993, 6.76604984, 6.91315179, 5.35912234,\n",
       "       5.18859043, 5.35270043, 5.90475017, 5.05936733, 5.40470198,\n",
       "       5.85022355, 5.03332262, 5.14802711, 5.62365276, 5.44886668,\n",
       "       6.02841005, 4.95766617, 6.57346653, 6.82304852, 6.55387698,\n",
       "       5.88673072, 5.98598644, 5.36433249, 5.50151822, 5.35139116,\n",
       "       5.28520957, 5.47970607, 5.35794138, 5.5988056 , 5.61643882,\n",
       "       6.23856882, 5.73541345, 5.18058193, 5.7422626 , 6.25166284,\n",
       "       5.90314369, 6.17667069, 5.71279302, 5.63764323, 5.37234745,\n",
       "       6.0976228 , 5.55923272, 5.78799357, 5.09186836, 5.42381085,\n",
       "       5.75939977, 5.2981213 , 4.43190612, 4.94040541, 5.75842537,\n",
       "       5.10257805, 5.12684009, 6.00471647, 5.33887059, 5.18067725,\n",
       "       5.63883811, 6.50886556, 6.17406537, 6.23440029, 4.95649789,\n",
       "       5.41256416, 5.36707274, 5.69993149, 5.46427428, 5.23409624,\n",
       "       5.90080114, 6.47440511, 6.57915803, 5.13575909, 5.68021664,\n",
       "       5.7669974 , 5.86237598, 5.37347688, 5.82715671, 5.06772569,\n",
       "       5.64226728, 5.68753133, 6.78419552, 6.12653833, 4.88280694,\n",
       "       5.4356321 , 6.37419709, 5.17434232, 6.40452661, 5.60799997,\n",
       "       6.03831613, 5.18112854, 5.38031559, 5.44627607, 6.19432216,\n",
       "       5.82004259, 5.64621941, 5.18221617, 5.07543565, 4.9644196 ,\n",
       "       5.0105638 , 6.03939263, 5.2969723 , 5.71016409, 5.37809829,\n",
       "       6.32516937, 5.30589402, 6.2054949 , 6.19506543, 5.50488195,\n",
       "       5.19999962, 5.71016409, 5.19294856, 5.7072535 , 5.45664929,\n",
       "       6.04524886, 6.33020257, 6.16474345, 6.9086996 , 6.00866104,\n",
       "       5.18888203, 6.50544506, 5.11780538, 5.02462048, 5.68146057,\n",
       "       5.92736006, 4.82031463, 5.45381778, 5.2981213 , 5.12370495,\n",
       "       6.16725009, 5.31305724, 6.51763754, 5.46644702, 5.94817127,\n",
       "       6.55133304, 6.50741005, 6.10750291, 6.19995778, 5.98852277,\n",
       "       5.06049838, 5.89439354, 5.43112723, 4.81773139, 5.53207039,\n",
       "       5.12878392, 5.30986142, 5.46019586, 6.66896501, 5.13805035,\n",
       "       5.34793996, 6.49777654, 5.42617433, 5.22823413, 5.21370729,\n",
       "       6.27008219, 5.68856372, 5.4171135 , 5.77682954, 5.56467352,\n",
       "       4.80868334, 5.01889856, 5.72446406, 5.8403333 , 6.57992692,\n",
       "       5.16973223, 4.94152408, 5.20722532, 6.0184297 , 5.38720561,\n",
       "       5.08371595, 5.72563755, 5.82518359, 5.21081864, 5.39850777,\n",
       "       6.25544282, 5.77846282, 5.71016409, 5.62758942, 5.27484636,\n",
       "       5.04596043, 5.15489363, 6.62198406, 5.91208605, 5.50488195,\n",
       "       4.95315666, 5.44717794, 5.88349307, 6.3267482 , 5.71294212,\n",
       "       5.5165036 , 5.39253512, 5.07231547, 5.51098895, 5.3757202 ,\n",
       "       5.12354547, 5.49105939, 6.188761  , 6.26687497, 5.3044271 ,\n",
       "       5.54112949, 5.32427342, 6.94546355, 5.21752726, 5.61978962,\n",
       "       5.90314369, 5.29335156, 5.069414  , 6.35398166, 5.63200545,\n",
       "       6.05832566, 5.32303556, 5.62074815, 5.35731215, 5.82628771,\n",
       "       5.8125634 , 5.43836117, 5.86550286, 5.53971313, 5.71294212,\n",
       "       5.37036708, 5.31166206, 5.41019304, 5.72627537, 5.08380121,\n",
       "       5.78965386, 6.13840912, 6.09680946, 6.05623883, 5.45592437,\n",
       "       4.75658128, 5.57663956, 5.23707071, 5.31173733, 6.04476581,\n",
       "       5.22402894, 6.08182646, 5.36819766, 5.7101162 , 6.38515763,\n",
       "       5.7925758 , 5.056288  , 6.11796467, 5.25618911, 5.22431235,\n",
       "       5.42989539, 6.28909032, 6.23644571, 5.05530591, 5.38031559,\n",
       "       5.82836138, 6.76984273, 6.46144738, 5.2945106 , 5.84180245,\n",
       "       6.19387506, 6.54974577, 6.26687497, 6.09367261, 5.0403103 ,\n",
       "       5.35794138, 5.60460318, 5.13629071, 5.18312272, 6.16212395,\n",
       "       5.50431413, 6.12161826, 5.37871771, 5.17905227, 4.95100657,\n",
       "       5.79942   , 5.68151969, 6.38909151, 5.26659251, 4.6063018 ,\n",
       "       5.80660723, 5.53438508, 5.46677441, 5.71332993, 6.45507582,\n",
       "       5.18733133, 5.95582334, 5.59386304, 6.17216158, 5.43836117,\n",
       "       5.56595154, 5.71503012, 6.38569177, 5.50234212, 5.78965386,\n",
       "       6.20750349, 5.07586863, 5.76912427, 6.31667105, 5.78953316,\n",
       "       5.10533973, 5.64621941, 6.47011457, 5.25020753, 5.25338716,\n",
       "       6.60576935, 5.84541758, 5.17398631, 5.21789979, 5.12211944,\n",
       "       5.341665  , 5.06055223, 5.22874288, 5.6070277 , 5.64720209,\n",
       "       5.05008469, 5.44091051, 6.01176983, 5.55545277, 6.09823086,\n",
       "       5.41328466, 5.95568135, 4.9601029 , 6.18776811, 6.5406015 ,\n",
       "       5.36510817, 5.73541345, 5.67271483, 5.20350597, 5.44903602,\n",
       "       5.84118614, 5.54343122, 5.04649534, 5.91751173, 5.57998394,\n",
       "       5.54961306, 5.0936344 , 6.54494539, 6.0437049 , 5.99677667,\n",
       "       5.71927692, 6.00969837, 5.70769294, 6.61866032, 5.10895404,\n",
       "       6.24925758, 5.22589517, 5.07255861, 6.25688565, 6.38299784,\n",
       "       5.51469454, 5.43032209, 5.44052052, 5.60655405, 5.42161974,\n",
       "       4.97387792, 6.63768014, 6.04364674, 5.98720637, 5.88930948,\n",
       "       5.01811369, 6.41559573, 5.20074895, 5.25622135, 5.55223727,\n",
       "       5.41239138, 5.56613921, 5.35303958, 6.20882906, 4.90313863,\n",
       "       5.4701778 , 5.18316734, 5.76793217, 6.28187634, 6.07101573,\n",
       "       5.66467317, 5.38152231, 5.70969947, 5.29691539, 5.69578368,\n",
       "       5.75830996, 5.48514365, 5.41889936, 5.44050657, 5.84621199,\n",
       "       5.68954256, 5.40986767, 5.59081464, 5.51619921, 5.57857961,\n",
       "       5.03603335, 6.10380511, 5.48941774, 5.20902593, 5.2405708 ,\n",
       "       5.95622324, 6.01696911, 5.22375027, 5.70582436, 6.59324686,\n",
       "       5.81956906, 5.82496062, 4.37605115, 5.27572735, 5.18112854,\n",
       "       6.12653833, 5.31681863, 5.20099097, 5.13410712, 5.95406166,\n",
       "       6.55704537, 5.67811839, 5.30587968, 4.83480082, 5.15624252,\n",
       "       5.36020718, 6.13350167, 5.0403103 , 6.30211702, 5.97734471,\n",
       "       6.35250183, 6.53678394, 5.33837602, 6.26192828, 5.70272358,\n",
       "       5.02659347, 6.03899206, 5.63200545, 6.13848459, 5.63200545,\n",
       "       5.6574976 , 5.89986588, 5.5659726 , 6.00753929, 6.71079333,\n",
       "       4.89081545, 5.61978962, 6.23960408, 5.20852011, 6.41936228,\n",
       "       5.0605323 , 5.95809516, 5.63200545, 6.01545086, 5.47467495,\n",
       "       6.31435441, 5.32902049, 6.26263556, 6.45500182, 5.58726879,\n",
       "       6.68453068, 6.27032542, 5.93349944, 5.2567674 , 5.08366374,\n",
       "       5.76424277, 5.5060574 , 5.25182923, 5.1811543 , 5.82444026,\n",
       "       5.37345828, 6.60023851, 6.01820812, 5.70722615, 5.25521355,\n",
       "       4.97099735, 5.33665527, 6.72544428, 6.12606987, 5.61587917,\n",
       "       5.48143919, 6.02221936, 4.76045258, 5.9313505 , 5.37528721,\n",
       "       5.74818505, 5.43651595, 5.64869153, 6.27032542, 5.27297002,\n",
       "       5.19884711, 5.70582436, 6.06941349, 5.30466831, 5.60825503,\n",
       "       5.06412611, 6.16946323, 6.27756627, 5.26005559, 5.87853528,\n",
       "       6.47812463, 5.85288021, 5.63654236, 6.24006852, 5.89440112,\n",
       "       5.66023123, 6.12229481, 6.04542536, 5.30169295, 5.14728574,\n",
       "       6.59553711, 5.42114746, 5.46015493, 6.63032569, 5.0758831 ,\n",
       "       5.02497826, 5.616918  , 6.00011717, 5.10133624, 5.68872411,\n",
       "       4.91496536, 6.66510313, 5.37102814, 6.50975591, 5.75598402,\n",
       "       6.39919109, 6.00384306, 6.82669091, 6.47698888, 5.64193188,\n",
       "       6.59662351, 5.81136811, 5.28729735, 5.91143915, 6.38489789,\n",
       "       5.98843526, 5.19406133, 5.57998394, 5.21878011, 5.2969723 ,\n",
       "       4.97700488, 5.66774586, 5.06772569, 5.67702481, 5.48281117,\n",
       "       5.27320388, 5.57164346, 5.50573515, 5.89751689, 5.84339268,\n",
       "       5.61643882, 5.394328  , 5.5159137 , 5.91033612, 5.18733133,\n",
       "       6.94546355, 5.05858347, 4.86408365, 6.18234977, 4.77195508,\n",
       "       5.35912234, 5.19921415, 5.47467495, 5.435339  , 6.26263556,\n",
       "       4.84110348, 5.18247576, 4.88919467, 6.26064535, 6.31595121,\n",
       "       5.29120576, 6.00384306, 5.93782649, 5.56795261, 5.42771139,\n",
       "       5.81136811, 6.50741005, 5.21565477, 5.27057276, 6.06781803,\n",
       "       6.39055586, 6.54098746, 5.97186091, 5.37018901, 6.38056453,\n",
       "       5.61985483, 5.56239122, 6.37336926, 5.15422046, 5.50612183,\n",
       "       5.28465912, 6.04179308, 5.29304561, 5.56516927, 5.72348777,\n",
       "       6.26001613, 5.41239138, 6.34986574, 5.7925758 , 5.18888203,\n",
       "       6.44273631, 5.3082953 , 5.92313465, 5.37953052, 5.59386304,\n",
       "       6.57020122, 5.5655412 , 5.3008485 , 5.73639042, 6.00098886,\n",
       "       6.58960296, 5.64829417, 6.64035608, 5.80003357, 5.48628358,\n",
       "       6.17735386, 5.68465985, 6.48112792, 5.44244537, 6.00067519,\n",
       "       5.76178576, 6.03397009, 5.65968007, 5.56239122, 5.07572181,\n",
       "       5.17951198, 5.39036238, 5.8403333 , 5.29928981, 5.27668079,\n",
       "       5.917029  , 5.53521562, 5.09945479, 5.05770103, 5.35740277,\n",
       "       5.17402288, 5.26296114, 5.75247514, 5.44052052, 5.78451008,\n",
       "       6.00953492, 5.6094795 , 5.22427134, 5.13758732, 5.28071441,\n",
       "       5.31681863, 5.71016409, 4.81963249, 5.23038008, 6.22681194,\n",
       "       5.81965979, 5.44827902, 6.34759777, 6.34188009, 5.53365034,\n",
       "       6.58447534, 5.36433249, 4.88733066, 5.36433249, 6.01887628,\n",
       "       5.62089288, 6.17735386, 5.76964964, 5.87951128, 6.1552145 ,\n",
       "       5.05408846, 6.39416399, 5.56826676, 5.71505223, 6.4139397 ,\n",
       "       5.06049838, 6.69944441, 5.54802734, 5.20424122, 5.87068514,\n",
       "       5.57920476, 5.96397199, 5.1409242 , 5.41515173, 5.60781243,\n",
       "       5.02189803, 4.71830855, 5.67568655, 6.17815467, 5.73817051,\n",
       "       6.50350937, 6.08312381, 5.23541066, 5.17460244, 5.1939521 ,\n",
       "       4.79554668, 5.4344314 , 5.65626168, 4.79960264, 6.08150445,\n",
       "       4.83715249, 6.23642148, 5.37487681, 5.35270043, 5.72301526,\n",
       "       5.32303556, 5.6146974 , 5.55421631, 5.62361809, 4.89141222,\n",
       "       4.9852694 , 5.42398084, 5.14167715, 5.75872186, 5.26535919,\n",
       "       5.67299792, 5.09945479, 5.07979131, 5.98590635, 6.45941135,\n",
       "       5.69289737, 6.18234977, 5.85827463, 5.55923272, 5.33926589,\n",
       "       5.56547396, 6.30627714, 5.46371692, 5.2714243 , 6.16712951,\n",
       "       6.14380841, 5.03636347, 5.56247756, 6.06000628, 6.00917417,\n",
       "       5.15187176, 5.00173654, 6.28184326, 5.19623798, 5.71932783,\n",
       "       6.34958575, 6.67650296, 5.4401083 , 5.64298317, 6.07805972,\n",
       "       6.15854263, 6.09801548, 5.69606071, 5.60781243, 6.50491248,\n",
       "       5.61985483, 5.1346833 , 6.11465849, 5.87075208, 6.188761  ,\n",
       "       5.71103749, 5.24502289, 5.86084008, 4.97813396, 5.39972858,\n",
       "       5.54025371, 6.23052017, 5.74635723, 5.12497019, 6.34976144,\n",
       "       5.68021664, 6.2635068 , 5.34085064, 5.4299524 , 5.26173449,\n",
       "       6.11784663, 5.33147191, 5.06614458, 6.36219547, 5.43361764,\n",
       "       5.73272794, 5.32734901, 5.13217174, 5.15454927, 5.04626823,\n",
       "       5.37036708, 6.14577274, 5.21500043, 6.18219769, 4.99515378,\n",
       "       4.75289556, 5.09768676, 5.78386301, 4.94710048, 4.98795453,\n",
       "       5.30116359, 5.39992989, 5.47544127, 5.48725943, 5.9743945 ,\n",
       "       5.26380863, 6.3873527 , 5.33216406, 6.07176005, 5.30728853,\n",
       "       5.88073248, 5.4344314 , 6.48338763, 5.21055751, 5.25759128,\n",
       "       6.11887629, 6.11887629, 5.36800629, 5.22119543, 5.25975324,\n",
       "       4.91224078, 6.53021074, 5.39850042, 6.501047  , 5.1304041 ,\n",
       "       5.59209821, 5.05408846, 5.1700138 , 5.76424277, 5.57163707,\n",
       "       5.33234484, 5.86985907, 6.2741735 , 5.41282718, 6.55855997,\n",
       "       5.69935638, 6.33499419, 6.97235051, 6.2835607 ])"
      ]
     },
     "execution_count": 20,
     "metadata": {},
     "output_type": "execute_result"
    }
   ],
   "source": [
    "train_pred= Ln.predict(x_train)\n",
    "train_pred"
   ]
  },
  {
   "cell_type": "code",
   "execution_count": 21,
   "id": "fef5879e",
   "metadata": {},
   "outputs": [
    {
     "data": {
      "text/plain": [
       "array([5.63459566, 5.10086001, 6.1695179 , 6.00753929, 5.62658787,\n",
       "       5.87142682, 5.77574998, 5.58307854, 6.38519311, 6.13800129,\n",
       "       6.09535819, 6.45507582, 5.82859218, 5.15902624, 6.00384306,\n",
       "       5.02762679, 5.61849348, 5.71048416, 5.02189803, 5.08356144,\n",
       "       5.24760468, 5.42050532, 5.75247514, 5.64524027, 5.53880799,\n",
       "       5.29501983, 5.72301526, 6.0238612 , 5.65629524, 5.84553725,\n",
       "       7.56286682, 6.3779466 , 4.97506693, 5.63078788, 5.16918944,\n",
       "       5.40470198, 5.84180245, 6.07895194, 5.5736557 , 5.13826804,\n",
       "       5.22312469, 5.73817051, 5.2945106 , 5.22991101, 6.25688565,\n",
       "       5.39183393, 4.89701018, 5.27057276, 5.47352339, 5.78783559,\n",
       "       5.56795261, 5.8782221 , 5.08707519, 6.30004037, 5.16162734,\n",
       "       6.46410655, 5.28520957, 5.57804473, 5.29603745, 5.85827463,\n",
       "       4.86691186, 5.46482182, 5.50822344, 5.3489072 , 6.79311836,\n",
       "       5.8765079 , 4.70638492, 5.06412611, 5.05021208, 5.25129427,\n",
       "       6.63853119, 5.20074895, 6.07043319, 5.82459512, 6.40452661,\n",
       "       5.35140403, 5.45621725, 5.72695296, 5.44717794, 4.93838718,\n",
       "       5.33611083, 5.8794785 , 5.94024702, 4.95866784, 5.83181754,\n",
       "       6.08007415, 6.36465251, 5.37772369, 6.00463375, 5.40000042,\n",
       "       6.9755042 , 5.41469296, 6.61866032, 6.18105035, 5.15092849,\n",
       "       5.30907679, 6.83863475, 5.80003357, 5.2981213 , 5.08890777,\n",
       "       5.29120576, 5.97734471, 6.15381726, 5.13161758, 5.33360807,\n",
       "       5.80503181, 6.62198406, 5.73515575, 6.29034728, 5.46457442,\n",
       "       5.437057  , 5.34901403, 6.0338758 , 6.25544282, 5.02239711,\n",
       "       5.38459671, 6.35575407, 6.26710218, 5.35482049, 5.13245211,\n",
       "       5.25370594, 5.35073459, 5.0605323 , 5.56008532, 5.06276204,\n",
       "       6.16712951, 5.22119543, 5.07419623, 5.24975922, 5.14681877,\n",
       "       5.90587546, 5.08113592, 6.11937134, 5.38277873, 5.77385246,\n",
       "       4.92956279, 5.03166153, 6.22992164, 5.7522062 , 6.08459178,\n",
       "       6.52271736, 6.11732517, 4.98505581, 5.97136673, 5.6558585 ,\n",
       "       5.88166847, 6.06915582, 5.17410419, 6.78573434, 5.07177998,\n",
       "       5.15503479, 5.96647555, 5.07675832, 5.14753   , 5.10280859,\n",
       "       5.21758672, 5.43207534, 5.70582436, 5.37568885, 4.90886262,\n",
       "       5.20734286, 5.99103218, 5.90846629, 6.22698693, 6.34936599,\n",
       "       4.99945952, 5.37018901, 6.001124  , 5.37490695, 5.2286918 ,\n",
       "       5.80749223, 5.50573515, 5.19406133, 6.62721844, 5.46482182,\n",
       "       5.77535046, 4.92301585, 6.97670213, 5.82043267, 5.19406133,\n",
       "       6.02025983, 5.39369916, 5.27026982, 5.37871771, 6.43887929,\n",
       "       6.18776811, 6.38569177, 6.20710123, 6.12653833, 5.61556418,\n",
       "       6.04903276, 5.64162661, 5.11682793, 5.21500043, 6.17514323,\n",
       "       5.59169228, 5.53866647, 5.32176992, 6.48534572, 5.2190849 ,\n",
       "       5.40139585, 5.21419108, 5.71480818, 5.23817622, 5.4922786 ,\n",
       "       5.31448269, 5.93328609, 6.00218987, 5.45824207, 5.26062463,\n",
       "       5.19925985, 5.66498213, 4.86420376, 5.3005076 , 5.92715736,\n",
       "       6.76604984, 6.38007707, 5.35289988, 5.17410419, 6.7349161 ,\n",
       "       5.2945106 , 5.43772667, 5.33774063, 5.84864628, 5.33927334,\n",
       "       5.07597596, 5.04871117, 5.1738012 , 4.96467692])"
      ]
     },
     "execution_count": 21,
     "metadata": {},
     "output_type": "execute_result"
    }
   ],
   "source": [
    "test_pred= Ln.predict(x_test)\n",
    "test_pred"
   ]
  },
  {
   "cell_type": "code",
   "execution_count": 22,
   "id": "bad604d2",
   "metadata": {},
   "outputs": [
    {
     "data": {
      "text/plain": [
       "0.631495643372368"
      ]
     },
     "execution_count": 22,
     "metadata": {},
     "output_type": "execute_result"
    }
   ],
   "source": [
    "train_rmse= metrics.mean_squared_error(train_pred, y_train)**0.5\n",
    "train_rmse"
   ]
  },
  {
   "cell_type": "code",
   "execution_count": 23,
   "id": "88abafd2",
   "metadata": {},
   "outputs": [
    {
     "data": {
      "text/plain": [
       "0.6644702603501813"
      ]
     },
     "execution_count": 23,
     "metadata": {},
     "output_type": "execute_result"
    }
   ],
   "source": [
    "test_rmse= metrics.mean_squared_error(test_pred, y_test)**0.5\n",
    "test_rmse"
   ]
  },
  {
   "cell_type": "code",
   "execution_count": 24,
   "id": "6f6047b8",
   "metadata": {},
   "outputs": [
    {
     "data": {
      "text/plain": [
       "array([6., 5., 6., 6., 6., 6., 6., 6., 6., 6., 6., 6., 6., 5., 6., 5., 6.,\n",
       "       6., 5., 5., 5., 5., 6., 6., 6., 5., 6., 6., 6., 6., 8., 6., 5., 6.,\n",
       "       5., 5., 6., 6., 6., 5., 5., 6., 5., 5., 6., 5., 5., 5., 5., 6., 6.,\n",
       "       6., 5., 6., 5., 6., 5., 6., 5., 6., 5., 5., 6., 5., 7., 6., 5., 5.,\n",
       "       5., 5., 7., 5., 6., 6., 6., 5., 5., 6., 5., 5., 5., 6., 6., 5., 6.,\n",
       "       6., 6., 5., 6., 5., 7., 5., 7., 6., 5., 5., 7., 6., 5., 5., 5., 6.,\n",
       "       6., 5., 5., 6., 7., 6., 6., 5., 5., 5., 6., 6., 5., 5., 6., 6., 5.,\n",
       "       5., 5., 5., 5., 6., 5., 6., 5., 5., 5., 5., 6., 5., 6., 5., 6., 5.,\n",
       "       5., 6., 6., 6., 7., 6., 5., 6., 6., 6., 6., 5., 7., 5., 5., 6., 5.,\n",
       "       5., 5., 5., 5., 6., 5., 5., 5., 6., 6., 6., 6., 5., 5., 6., 5., 5.,\n",
       "       6., 6., 5., 7., 5., 6., 5., 7., 6., 5., 6., 5., 5., 5., 6., 6., 6.,\n",
       "       6., 6., 6., 6., 6., 5., 5., 6., 6., 6., 5., 6., 5., 5., 5., 6., 5.,\n",
       "       5., 5., 6., 6., 5., 5., 5., 6., 5., 5., 6., 7., 6., 5., 5., 7., 5.,\n",
       "       5., 5., 6., 5., 5., 5., 5., 5.])"
      ]
     },
     "execution_count": 24,
     "metadata": {},
     "output_type": "execute_result"
    }
   ],
   "source": [
    "#rounding off the predicted values for the test set\n",
    "pred_data= np.round_(test_pred)\n",
    "pred_data"
   ]
  },
  {
   "cell_type": "code",
   "execution_count": 25,
   "id": "6a332ff6",
   "metadata": {},
   "outputs": [
    {
     "name": "stdout",
     "output_type": "stream",
     "text": [
      "Mean Absolute Error:  0.49961916491448205\n",
      "Mean Squared Error:  0.44152072688983773\n",
      "Root mean squared Error:  0.6644702603501813\n"
     ]
    }
   ],
   "source": [
    "print('Mean Absolute Error: ', metrics.mean_absolute_error(y_test, test_pred))\n",
    "print('Mean Squared Error: ', metrics.mean_squared_error(y_test, test_pred))\n",
    "rmse= np.sqrt(metrics.mean_squared_error(y_test, test_pred))\n",
    "print('Root mean squared Error: ', rmse)"
   ]
  },
  {
   "cell_type": "code",
   "execution_count": 32,
   "id": "0a5e234e",
   "metadata": {},
   "outputs": [
    {
     "name": "stdout",
     "output_type": "stream",
     "text": [
      "Coefficient of determination: 0.388\n"
     ]
    }
   ],
   "source": [
    "from sklearn.metrics import r2_score\n",
    "print('Coefficient of determination: %.3f' % r2_score(y_test,test_pred))"
   ]
  },
  {
   "cell_type": "code",
   "execution_count": 28,
   "id": "eedc1fd9",
   "metadata": {},
   "outputs": [
    {
     "data": {
      "text/plain": [
       "Text(0.5, 1.0, 'RMSE_Score')"
      ]
     },
     "execution_count": 28,
     "metadata": {},
     "output_type": "execute_result"
    },
    {
     "data": {
      "image/png": "[encoded data removed]",
      "text/plain": [
       "<Figure size 640x480 with 1 Axes>"
      ]
     },
     "metadata": {},
     "output_type": "display_data"
    }
   ],
   "source": [
    "import matplotlib.pyplot as plt1\n",
    "ax= plt1.axes()\n",
    "col1= 'red'\n",
    "col2= 'blue'\n",
    "ax.arrow(0,0,1,0.56, head_width=0.00, head_length=0, fc=col2, ec=col2)\n",
    "ax.arrow(0,0,2,0.63, head_width=0.00, head_length=0.05, fc=col1, ec=col1, linestyle=' ')\n",
    "ax.set_ylim([0,0.8])\n",
    "ax.set_xlim([0,4])\n",
    "plt.grid()\n",
    "plt.title('RMSE_Score')"
   ]
  },
  {
   "cell_type": "code",
   "execution_count": 29,
   "id": "b1b36351",
   "metadata": {},
   "outputs": [
    {
     "data": {
      "image/png": "[encoded data removed]",
      "text/plain": [
       "<Figure size 640x480 with 1 Axes>"
      ]
     },
     "metadata": {},
     "output_type": "display_data"
    }
   ],
   "source": [
    "import matplotlib.pyplot as plt1\n",
    "ax= plt1.axes()\n",
    "col1= 'red'\n",
    "col2= 'blue'\n",
    "ax.arrow(0,0,2,0.40, head_width=0.00, head_length=0, fc=col2, ec=col2)\n",
    "ax.arrow(0,0,1,0.34, head_width=0.00, head_length=0.05, fc=col1, ec=col1, linestyle='--')\n",
    "ax.set_ylim([0,0.6])\n",
    "ax.set_xlim([0,3])\n",
    "plt.grid()\n",
    "plt.title('R2_Score')\n",
    "plt1.show()"
   ]
  },
  {
   "cell_type": "code",
   "execution_count": null,
   "id": "cffe3929",
   "metadata": {},
   "outputs": [],
   "source": []
  }
 ],
 "metadata": {
  "kernelspec": {
   "display_name": "Python 3 (ipykernel)",
   "language": "python",
   "name": "python3"
  },
  "language_info": {
   "codemirror_mode": {
    "name": "ipython",
    "version": 3
   },
   "file_extension": ".py",
   "mimetype": "text/x-python",
   "name": "python",
   "nbconvert_exporter": "python",
   "pygments_lexer": "ipython3",
   "version": "3.10.10"
  }
 },
 "nbformat": 4,
 "nbformat_minor": 5
}
